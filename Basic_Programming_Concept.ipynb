{
  "nbformat": 4,
  "nbformat_minor": 0,
  "metadata": {
    "colab": {
      "name": "Basic Programming Concept.ipynb",
      "provenance": [],
      "authorship_tag": "ABX9TyOQkA3W2OwiH6wkrDhPRj/X",
      "include_colab_link": true
    },
    "kernelspec": {
      "name": "python3",
      "display_name": "Python 3"
    },
    "language_info": {
      "name": "python"
    }
  },
  "cells": [
    {
      "cell_type": "markdown",
      "metadata": {
        "id": "view-in-github",
        "colab_type": "text"
      },
      "source": [
        "<a href=\"https://colab.research.google.com/github/BestApisit/data_viz_2022/blob/main/Basic_Programming_Concept.ipynb\" target=\"_parent\"><img src=\"https://colab.research.google.com/assets/colab-badge.svg\" alt=\"Open In Colab\"/></a>"
      ]
    },
    {
      "cell_type": "markdown",
      "source": [
        "#Functions $(f(x) = y)$\n",
        "\n",
        "\n",
        "\n"
      ],
      "metadata": {
        "id": "Pusbs7_oDieS"
      }
    },
    {
      "cell_type": "markdown",
      "source": [
        "```python\n",
        "def function_name(input_x) :\n",
        "     # do something with input_x to get output_y\n",
        "     return output_y\n",
        "```"
      ],
      "metadata": {
        "id": "ctvBTcmdEOIV"
      }
    },
    {
      "cell_type": "markdown",
      "source": [
        "$f_1(x) = x^2 + 75$"
      ],
      "metadata": {
        "id": "j1Tsn55RGMoJ"
      }
    },
    {
      "cell_type": "code",
      "source": [
        "def function_f1(x) :\n",
        "     a = x**2\n",
        "     y = a + 75\n",
        "     return y\n",
        "\n",
        "print('done!')"
      ],
      "metadata": {
        "colab": {
          "base_uri": "https://localhost:8080/"
        },
        "id": "om_n4B51GPTw",
        "outputId": "62e13837-3247-4026-c0f3-a00d587f7c5a"
      },
      "execution_count": 4,
      "outputs": [
        {
          "output_type": "stream",
          "name": "stdout",
          "text": [
            "done!\n"
          ]
        }
      ]
    },
    {
      "cell_type": "code",
      "source": [
        "function_f1(3)"
      ],
      "metadata": {
        "colab": {
          "base_uri": "https://localhost:8080/"
        },
        "id": "47Yqtn88Gq5Z",
        "outputId": "9948e7e0-f4ba-4bf2-b91e-9733e18b8673"
      },
      "execution_count": 3,
      "outputs": [
        {
          "output_type": "execute_result",
          "data": {
            "text/plain": [
              "84"
            ]
          },
          "metadata": {},
          "execution_count": 3
        }
      ]
    },
    {
      "cell_type": "markdown",
      "source": [
        "function มีส่วนสำคัญทั้งหมด 4 ส่วน\n",
        "\n",
        "1. บอก python ว่าเราจะเขียนฟังก์ชัน ชื่ออะไร `def function_name():` (ขาดไม่ได้)\n",
        "2. กำหนดตัวแปรที่จะเป็น input _Input_ (ขาดได้)\n",
        "3. ส่วนประมวลผล do_something with _Input_ to get _Output_ (ขาดไม่ได้)\n",
        "4. ส่วน output `return` _Output_ (ขาดได้)"
      ],
      "metadata": {
        "id": "MY0Ab4RZHPV3"
      }
    },
    {
      "cell_type": "markdown",
      "source": [
        "##ตัวอย่าง function ที่มีส่วนประกอบครบ"
      ],
      "metadata": {
        "id": "BUjRyJ7ZIcLb"
      }
    },
    {
      "cell_type": "code",
      "source": [
        "def function_f1(x) :\n",
        "     a = x**2\n",
        "     y = a + 75\n",
        "     return y"
      ],
      "metadata": {
        "id": "X4Xb2lgPInmZ"
      },
      "execution_count": 5,
      "outputs": []
    },
    {
      "cell_type": "markdown",
      "source": [
        "##ตัวอย่าง function ที่ไม่มี input"
      ],
      "metadata": {
        "id": "TgQ4jYqVIuPn"
      }
    },
    {
      "cell_type": "code",
      "source": [
        "def pi_v():\n",
        "     y = 3.14159265359\n",
        "     return y"
      ],
      "metadata": {
        "id": "rgkgiIHJI1Bi"
      },
      "execution_count": 7,
      "outputs": []
    },
    {
      "cell_type": "code",
      "source": [
        "piv = pi_v()\n",
        "circle_area_r2 = piv*(2**2)\n",
        "print(circle_area_r2)"
      ],
      "metadata": {
        "colab": {
          "base_uri": "https://localhost:8080/"
        },
        "id": "w3HIzKS9JEgH",
        "outputId": "4951c7a3-ca7d-4737-bf38-5bd2d8fb5beb"
      },
      "execution_count": 8,
      "outputs": [
        {
          "output_type": "stream",
          "name": "stdout",
          "text": [
            "12.56637061436\n"
          ]
        }
      ]
    },
    {
      "cell_type": "markdown",
      "source": [
        "##Function ไม่มี process ไม่ได้"
      ],
      "metadata": {
        "id": "Ya3yMXmoJdQz"
      }
    },
    {
      "cell_type": "code",
      "source": [
        "def_function_a():"
      ],
      "metadata": {
        "colab": {
          "base_uri": "https://localhost:8080/",
          "height": 132
        },
        "id": "S4VymdVXJqFB",
        "outputId": "7d71be38-a88e-4546-97aa-af00ee3c5b82"
      },
      "execution_count": 9,
      "outputs": [
        {
          "output_type": "error",
          "ename": "SyntaxError",
          "evalue": "ignored",
          "traceback": [
            "\u001b[0;36m  File \u001b[0;32m\"<ipython-input-9-d7fe64b63452>\"\u001b[0;36m, line \u001b[0;32m1\u001b[0m\n\u001b[0;31m    def_function_a():\u001b[0m\n\u001b[0m                     ^\u001b[0m\n\u001b[0;31mSyntaxError\u001b[0m\u001b[0;31m:\u001b[0m invalid syntax\n"
          ]
        }
      ]
    },
    {
      "cell_type": "markdown",
      "source": [
        "ตัวอย่าง Function ที่ไม่มี output"
      ],
      "metadata": {
        "id": "aF5-L1CdJwHf"
      }
    },
    {
      "cell_type": "code",
      "source": [
        "def print_name_id(name,id):\n",
        "     print(f'ชื่อ {name} รหัสประจำตัว {id}')"
      ],
      "metadata": {
        "id": "2jXzPBvDJ3Rh"
      },
      "execution_count": 10,
      "outputs": []
    },
    {
      "cell_type": "code",
      "source": [
        "print_name_id('อภิสิทธิ์','623021009-3')"
      ],
      "metadata": {
        "colab": {
          "base_uri": "https://localhost:8080/"
        },
        "id": "-GKlZDXUKfqf",
        "outputId": "f7e95ca8-e47e-4318-b332-9a1ae557070f"
      },
      "execution_count": 11,
      "outputs": [
        {
          "output_type": "stream",
          "name": "stdout",
          "text": [
            "ชื่อ อภิสิทธิ์ รหัสประจำตัว 623021009-3\n"
          ]
        }
      ]
    },
    {
      "cell_type": "code",
      "source": [
        "a=print_name_id('อภิสิทธิ์','623021009-3')"
      ],
      "metadata": {
        "colab": {
          "base_uri": "https://localhost:8080/"
        },
        "id": "tKT1WcvAMBdD",
        "outputId": "53301a1e-e7c5-4be1-9270-3f782ea2c1d4"
      },
      "execution_count": 12,
      "outputs": [
        {
          "output_type": "stream",
          "name": "stdout",
          "text": [
            "ชื่อ อภิสิทธิ์ รหัสประจำตัว 623021009-3\n"
          ]
        }
      ]
    },
    {
      "cell_type": "code",
      "source": [
        "a"
      ],
      "metadata": {
        "id": "Mea8G8VgMH46"
      },
      "execution_count": 13,
      "outputs": []
    },
    {
      "cell_type": "markdown",
      "source": [
        "ตัวอย่าง"
      ],
      "metadata": {
        "id": "cuMj18w9PHL-"
      }
    },
    {
      "cell_type": "code",
      "source": [
        "print('อภิสิทธิ์')\n",
        "print('623021009-3')"
      ],
      "metadata": {
        "colab": {
          "base_uri": "https://localhost:8080/"
        },
        "id": "QBPrWncyO-wy",
        "outputId": "1b0215ae-c244-4ee4-930b-39ba0eff6ff5"
      },
      "execution_count": 14,
      "outputs": [
        {
          "output_type": "stream",
          "name": "stdout",
          "text": [
            "อภิสิทธิ์\n",
            "623021009-3\n"
          ]
        }
      ]
    },
    {
      "cell_type": "code",
      "source": [
        "print('อภิสิทธิ์',end='->')\n",
        "print('623021009-3')"
      ],
      "metadata": {
        "colab": {
          "base_uri": "https://localhost:8080/"
        },
        "id": "N08sIHk1PTuc",
        "outputId": "42196bb7-658c-4bb8-d0cd-f159580f547e"
      },
      "execution_count": 16,
      "outputs": [
        {
          "output_type": "stream",
          "name": "stdout",
          "text": [
            "อภิสิทธิ์->623021009-3\n"
          ]
        }
      ]
    },
    {
      "cell_type": "code",
      "source": [
        "print('อภิสิทธิ์','623021009-3',sep=' & ')"
      ],
      "metadata": {
        "colab": {
          "base_uri": "https://localhost:8080/"
        },
        "id": "NzL8ielSPd5j",
        "outputId": "9742d40e-27ea-493e-c3ed-50c5996516bb"
      },
      "execution_count": 18,
      "outputs": [
        {
          "output_type": "stream",
          "name": "stdout",
          "text": [
            "อภิสิทธิ์ & 623021009-3\n"
          ]
        }
      ]
    },
    {
      "cell_type": "markdown",
      "source": [
        "##input ของ functiom แบ่งเป็น 2 ชนิด (จำเป็นต้องใส่ กับ ไม่จำเป็นต้องใส่)"
      ],
      "metadata": {
        "id": "C9YMBpjqQFVX"
      }
    },
    {
      "cell_type": "markdown",
      "source": [
        "ตัวอย่าง function `print_grade()` มี input 3 ตัว จำเป็นต้องใส่ 2 ตัว คือ name กับ id และไม่จำเป็นต้องใส่ 1 ตัว คือเกรด ซึ่งมีค่า default เป็น F "
      ],
      "metadata": {
        "id": "RXII5_aERAo5"
      }
    },
    {
      "cell_type": "code",
      "source": [
        "def print_grade(name,id,grade = 'F'):\n",
        "    print(f'รหัสประจำตัว {id} ชื่อ {name}')\n",
        "    print(f'ได้เกรด {grade}')"
      ],
      "metadata": {
        "id": "A5wXetOUQRT5"
      },
      "execution_count": 22,
      "outputs": []
    },
    {
      "cell_type": "code",
      "source": [
        "print_grade('นายอภิสิทธิ์ ศิริเทศ','623021009-3')"
      ],
      "metadata": {
        "colab": {
          "base_uri": "https://localhost:8080/"
        },
        "id": "1wedemQhRhxY",
        "outputId": "a49876a7-82b2-4296-f7ab-ca910e170eaf"
      },
      "execution_count": 23,
      "outputs": [
        {
          "output_type": "stream",
          "name": "stdout",
          "text": [
            "รหัสประจำตัว 623021009-3 ชื่อ นายอภิสิทธิ์ ศิริเทศ\n",
            "ได้เกรด F\n"
          ]
        }
      ]
    },
    {
      "cell_type": "code",
      "source": [
        "print_grade('นายอภิสิทธิ์ ศิริเทศ','623021009-3','A')"
      ],
      "metadata": {
        "colab": {
          "base_uri": "https://localhost:8080/"
        },
        "id": "7P0Jd7eTR6I1",
        "outputId": "bdd05da7-4e01-4a82-bd34-e0a061d93058"
      },
      "execution_count": 24,
      "outputs": [
        {
          "output_type": "stream",
          "name": "stdout",
          "text": [
            "รหัสประจำตัว 623021009-3 ชื่อ นายอภิสิทธิ์ ศิริเทศ\n",
            "ได้เกรด A\n"
          ]
        }
      ]
    },
    {
      "cell_type": "code",
      "source": [
        "print_grade('นายอภิสิทธิ์ ศิริเทศ','623021009-3',grade='B+')"
      ],
      "metadata": {
        "colab": {
          "base_uri": "https://localhost:8080/"
        },
        "id": "q68LbHwZSBRy",
        "outputId": "daf0f62e-1915-4418-94d6-ddd3fa910c2f"
      },
      "execution_count": 25,
      "outputs": [
        {
          "output_type": "stream",
          "name": "stdout",
          "text": [
            "รหัสประจำตัว 623021009-3 ชื่อ นายอภิสิทธิ์ ศิริเทศ\n",
            "ได้เกรด B+\n"
          ]
        }
      ]
    },
    {
      "cell_type": "markdown",
      "source": [
        "#Looping (for)"
      ],
      "metadata": {
        "id": "l49u4_0PDpe5"
      }
    },
    {
      "cell_type": "markdown",
      "source": [
        "#Conditional Statement (if)"
      ],
      "metadata": {
        "id": "hCZCamupDugm"
      }
    },
    {
      "cell_type": "code",
      "execution_count": null,
      "metadata": {
        "id": "8yMIku8sDYR9"
      },
      "outputs": [],
      "source": [
        ""
      ]
    }
  ]
}