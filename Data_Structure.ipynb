{
  "nbformat": 4,
  "nbformat_minor": 0,
  "metadata": {
    "colab": {
      "name": "Data Structure.ipynb",
      "provenance": [],
      "authorship_tag": "ABX9TyNdzFFVoIUYMH2S+Dq05dNx",
      "include_colab_link": true
    },
    "kernelspec": {
      "name": "python3",
      "display_name": "Python 3"
    },
    "language_info": {
      "name": "python"
    }
  },
  "cells": [
    {
      "cell_type": "markdown",
      "metadata": {
        "id": "view-in-github",
        "colab_type": "text"
      },
      "source": [
        "<a href=\"https://colab.research.google.com/github/BestApisit/data_viz_2022/blob/main/Data_Structure.ipynb\" target=\"_parent\"><img src=\"https://colab.research.google.com/assets/colab-badge.svg\" alt=\"Open In Colab\"/></a>"
      ]
    },
    {
      "cell_type": "markdown",
      "source": [
        "# Data Structure (โครงสร้างข้อมูล)\n",
        "การเก็บข้อมูลหลาย ๆ ตัวไว้ด้วยกันอย่างเป็นระเบียบ"
      ],
      "metadata": {
        "id": "yL7rsSuzhdWk"
      }
    },
    {
      "cell_type": "markdown",
      "source": [
        "## `list()`\n",
        "- เก็บอะไรก็ได้\n",
        "- ลำดับในการเก็บ มีความสำคัญ"
      ],
      "metadata": {
        "id": "FE7WToushmCO"
      }
    },
    {
      "cell_type": "code",
      "execution_count": null,
      "metadata": {
        "id": "v8E-8whDhRSh"
      },
      "outputs": [],
      "source": [
        "list_a=[1,2,3,4,5,6] #[ ] square brackets (วงเล็บเหลี่ยม)"
      ]
    },
    {
      "cell_type": "code",
      "source": [
        "list_a"
      ],
      "metadata": {
        "colab": {
          "base_uri": "https://localhost:8080/"
        },
        "id": "3I4Fw-1rhq3k",
        "outputId": "fdca3ce1-e929-42e2-aa24-dbc267cc7826"
      },
      "execution_count": null,
      "outputs": [
        {
          "output_type": "execute_result",
          "data": {
            "text/plain": [
              "[1, 2, 3, 4, 5, 6]"
            ]
          },
          "metadata": {},
          "execution_count": 2
        }
      ]
    },
    {
      "cell_type": "code",
      "source": [
        "list_b=['ab',2,3.14,list_a]"
      ],
      "metadata": {
        "id": "BhaqlTsUhssY"
      },
      "execution_count": null,
      "outputs": []
    },
    {
      "cell_type": "code",
      "source": [
        "list_b"
      ],
      "metadata": {
        "colab": {
          "base_uri": "https://localhost:8080/"
        },
        "id": "aZNIVq7ShvAx",
        "outputId": "52c70c0e-7de5-4055-f3a2-bbffd3573171"
      },
      "execution_count": null,
      "outputs": [
        {
          "output_type": "execute_result",
          "data": {
            "text/plain": [
              "['ab', 2, 3.14, [1, 2, 3, 4, 5, 6]]"
            ]
          },
          "metadata": {},
          "execution_count": 4
        }
      ]
    },
    {
      "cell_type": "markdown",
      "source": [
        "### indexing การชี้สมาชิกใน list ด้วย เลขลำดับของ list"
      ],
      "metadata": {
        "id": "pxZAO72Dhyhz"
      }
    },
    {
      "cell_type": "code",
      "source": [
        "list_a[3]"
      ],
      "metadata": {
        "colab": {
          "base_uri": "https://localhost:8080/"
        },
        "id": "UVRX0AzBhxHN",
        "outputId": "9c17d804-4fe9-4f25-f9c5-e538bf0a0f47"
      },
      "execution_count": null,
      "outputs": [
        {
          "output_type": "execute_result",
          "data": {
            "text/plain": [
              "4"
            ]
          },
          "metadata": {},
          "execution_count": 5
        }
      ]
    },
    {
      "cell_type": "code",
      "source": [
        "list_b[3]"
      ],
      "metadata": {
        "colab": {
          "base_uri": "https://localhost:8080/"
        },
        "id": "w3IeLwPph3xL",
        "outputId": "b7b2f6c4-3e4d-4da3-bbd6-c06408d700f6"
      },
      "execution_count": null,
      "outputs": [
        {
          "output_type": "execute_result",
          "data": {
            "text/plain": [
              "[1, 2, 3, 4, 5, 6]"
            ]
          },
          "metadata": {},
          "execution_count": 6
        }
      ]
    },
    {
      "cell_type": "code",
      "source": [
        "list_b[3][4] #list_bที่ตำแหน่ง 3 ข้างใน 3 เป็นตำแหน่งที่ 4"
      ],
      "metadata": {
        "colab": {
          "base_uri": "https://localhost:8080/"
        },
        "id": "cL0Af7UKh7Ul",
        "outputId": "9047dd2f-3811-4c67-aa76-7ae15f86c01d"
      },
      "execution_count": null,
      "outputs": [
        {
          "output_type": "execute_result",
          "data": {
            "text/plain": [
              "5"
            ]
          },
          "metadata": {},
          "execution_count": 7
        }
      ]
    },
    {
      "cell_type": "code",
      "source": [
        "list_a[6] # list_a มีตำแหน่ง 0 1 2 3 4 5 ไม่มีตำแหน่ง 6 เลย error"
      ],
      "metadata": {
        "colab": {
          "base_uri": "https://localhost:8080/",
          "height": 166
        },
        "id": "HBUaBZF4h9k4",
        "outputId": "b17015d9-b114-4e5f-a2d5-d6ef8263288a"
      },
      "execution_count": null,
      "outputs": [
        {
          "output_type": "error",
          "ename": "IndexError",
          "evalue": "ignored",
          "traceback": [
            "\u001b[0;31m---------------------------------------------------------------------------\u001b[0m",
            "\u001b[0;31mIndexError\u001b[0m                                Traceback (most recent call last)",
            "\u001b[0;32m<ipython-input-8-28175ab080ff>\u001b[0m in \u001b[0;36m<module>\u001b[0;34m()\u001b[0m\n\u001b[0;32m----> 1\u001b[0;31m \u001b[0mlist_a\u001b[0m\u001b[0;34m[\u001b[0m\u001b[0;36m6\u001b[0m\u001b[0;34m]\u001b[0m \u001b[0;31m# list_a มีตำแหน่ง 0 1 2 3 4 5 ไม่มีตำแหน่ง 6 เลย error\u001b[0m\u001b[0;34m\u001b[0m\u001b[0;34m\u001b[0m\u001b[0m\n\u001b[0m",
            "\u001b[0;31mIndexError\u001b[0m: list index out of range"
          ]
        }
      ]
    },
    {
      "cell_type": "code",
      "source": [
        "list_a[-1] #index -1 คือตัวสุดท้ายของ list_a"
      ],
      "metadata": {
        "colab": {
          "base_uri": "https://localhost:8080/"
        },
        "id": "C1eMmxYDh_fD",
        "outputId": "c0d92f1f-2503-4b4f-c92c-ca4137b917b8"
      },
      "execution_count": null,
      "outputs": [
        {
          "output_type": "execute_result",
          "data": {
            "text/plain": [
              "6"
            ]
          },
          "metadata": {},
          "execution_count": 9
        }
      ]
    },
    {
      "cell_type": "code",
      "source": [
        "list_a[-2] #index -2 คือตัวรองสุดท้ายของ list_a"
      ],
      "metadata": {
        "colab": {
          "base_uri": "https://localhost:8080/"
        },
        "id": "1NiR9TQmiB0m",
        "outputId": "9a4225d3-a647-4528-b694-d185e3db4000"
      },
      "execution_count": null,
      "outputs": [
        {
          "output_type": "execute_result",
          "data": {
            "text/plain": [
              "5"
            ]
          },
          "metadata": {},
          "execution_count": 10
        }
      ]
    },
    {
      "cell_type": "markdown",
      "source": [
        "### การสร้าง list()"
      ],
      "metadata": {
        "id": "ur92Mjo7iINk"
      }
    },
    {
      "cell_type": "code",
      "source": [
        "list_x1=[] #แบบที่ 1\n",
        "list_x2=list() #แบบที่ 2"
      ],
      "metadata": {
        "id": "7xr4_5BsiHV8"
      },
      "execution_count": null,
      "outputs": []
    },
    {
      "cell_type": "code",
      "source": [
        "print(list_x1)\n",
        "print(list_x2)"
      ],
      "metadata": {
        "colab": {
          "base_uri": "https://localhost:8080/"
        },
        "id": "_cdyKpQziOuX",
        "outputId": "4ddf3f24-f8df-490d-f0ac-8e7f524d3c44"
      },
      "execution_count": null,
      "outputs": [
        {
          "output_type": "stream",
          "name": "stdout",
          "text": [
            "[]\n",
            "[]\n"
          ]
        }
      ]
    },
    {
      "cell_type": "markdown",
      "source": [
        "### เพิ่มสมาชิกเข้าไปใน list ด้วย `append()`"
      ],
      "metadata": {
        "id": "oysdcuxbiSYX"
      }
    },
    {
      "cell_type": "code",
      "source": [
        "list_x1.append(2)"
      ],
      "metadata": {
        "id": "kDFl2ItdiQG4"
      },
      "execution_count": null,
      "outputs": []
    },
    {
      "cell_type": "code",
      "source": [
        "list_x1"
      ],
      "metadata": {
        "colab": {
          "base_uri": "https://localhost:8080/"
        },
        "id": "QgdBhxDWiWr6",
        "outputId": "be7e3238-d85d-4f8c-ca54-58f4478d00e7"
      },
      "execution_count": null,
      "outputs": [
        {
          "output_type": "execute_result",
          "data": {
            "text/plain": [
              "[2]"
            ]
          },
          "metadata": {},
          "execution_count": 14
        }
      ]
    },
    {
      "cell_type": "code",
      "source": [
        "list_x1.append(4) #runกี่ครั้งตัวเลขจะขึ้นเท่านั้น ตรงนี้ run 4 2 ครั้ง\n",
        "print(list_x1)"
      ],
      "metadata": {
        "colab": {
          "base_uri": "https://localhost:8080/"
        },
        "id": "SjRcPxJ0iYGb",
        "outputId": "29cbcd65-e90c-4091-8844-8b371486e5ed"
      },
      "execution_count": null,
      "outputs": [
        {
          "output_type": "stream",
          "name": "stdout",
          "text": [
            "[2, 4, 4]\n"
          ]
        }
      ]
    },
    {
      "cell_type": "code",
      "source": [
        "list_x2"
      ],
      "metadata": {
        "colab": {
          "base_uri": "https://localhost:8080/"
        },
        "id": "NhN3A4Ktifsz",
        "outputId": "79198d7e-d442-4d8b-e20c-ac5265bfa068"
      },
      "execution_count": null,
      "outputs": [
        {
          "output_type": "execute_result",
          "data": {
            "text/plain": [
              "[]"
            ]
          },
          "metadata": {},
          "execution_count": 17
        }
      ]
    },
    {
      "cell_type": "code",
      "source": [
        "list_x2.append('ha') # run 2 ครั้ง\n",
        "print(list_x2)"
      ],
      "metadata": {
        "colab": {
          "base_uri": "https://localhost:8080/"
        },
        "id": "cqEiF5O2izp4",
        "outputId": "2e94e027-50e6-4af8-fb94-19b92ba8d347"
      },
      "execution_count": null,
      "outputs": [
        {
          "output_type": "stream",
          "name": "stdout",
          "text": [
            "['ha', 'ha']\n"
          ]
        }
      ]
    },
    {
      "cell_type": "markdown",
      "source": [
        "### ลบสมาชิกจาก list"
      ],
      "metadata": {
        "id": "vkdXzr-ujCXb"
      }
    },
    {
      "cell_type": "code",
      "source": [
        "list_x1.append('ha')"
      ],
      "metadata": {
        "id": "Ff1-0iyVi5jX"
      },
      "execution_count": null,
      "outputs": []
    },
    {
      "cell_type": "code",
      "source": [
        "list_x1"
      ],
      "metadata": {
        "colab": {
          "base_uri": "https://localhost:8080/"
        },
        "id": "yj9tND__jG1g",
        "outputId": "d83f66c3-3b1a-4ee7-8782-bf5f586c1c18"
      },
      "execution_count": null,
      "outputs": [
        {
          "output_type": "execute_result",
          "data": {
            "text/plain": [
              "[2, 4, 4, 'ha']"
            ]
          },
          "metadata": {},
          "execution_count": 21
        }
      ]
    },
    {
      "cell_type": "code",
      "source": [
        "list_x1.pop() #pop ลบตัวสุดท้าย "
      ],
      "metadata": {
        "colab": {
          "base_uri": "https://localhost:8080/",
          "height": 35
        },
        "id": "3KN0h61ZjIvC",
        "outputId": "39e96eab-ab06-4813-b6a9-d3a208745815"
      },
      "execution_count": null,
      "outputs": [
        {
          "output_type": "execute_result",
          "data": {
            "application/vnd.google.colaboratory.intrinsic+json": {
              "type": "string"
            },
            "text/plain": [
              "'ha'"
            ]
          },
          "metadata": {},
          "execution_count": 23
        }
      ]
    },
    {
      "cell_type": "code",
      "source": [
        "list_x1"
      ],
      "metadata": {
        "colab": {
          "base_uri": "https://localhost:8080/"
        },
        "id": "qzwH3CTgjWN9",
        "outputId": "82531851-e7b3-47a0-ca3b-ebd2d996a2b7"
      },
      "execution_count": null,
      "outputs": [
        {
          "output_type": "execute_result",
          "data": {
            "text/plain": [
              "[2, 4, 4]"
            ]
          },
          "metadata": {},
          "execution_count": 24
        }
      ]
    },
    {
      "cell_type": "code",
      "source": [
        "list_x1.pop() # run 2 ครั้ง ลบไป 2 ตัว จาก 2,4,4 เหลือ 2\n",
        "print(list_x1)"
      ],
      "metadata": {
        "colab": {
          "base_uri": "https://localhost:8080/"
        },
        "id": "T4HImpbSjfZk",
        "outputId": "4bae7a81-817e-4755-fb3d-176e6ec4134c"
      },
      "execution_count": null,
      "outputs": [
        {
          "output_type": "stream",
          "name": "stdout",
          "text": [
            "[2]\n"
          ]
        }
      ]
    },
    {
      "cell_type": "markdown",
      "source": [
        "###`len()`ตรวจสอบจำนวนสมาชิก list"
      ],
      "metadata": {
        "id": "-6krsSc1jwTI"
      }
    },
    {
      "cell_type": "code",
      "source": [
        "print(list_b)\n",
        "print(len(list_b))"
      ],
      "metadata": {
        "colab": {
          "base_uri": "https://localhost:8080/"
        },
        "id": "pyrmHMYcjsM4",
        "outputId": "393d5b43-056f-432c-c20f-56af98578c8d"
      },
      "execution_count": null,
      "outputs": [
        {
          "output_type": "stream",
          "name": "stdout",
          "text": [
            "['ab', 2, 3.14, [1, 2, 3, 4, 5, 6]]\n",
            "4\n"
          ]
        }
      ]
    },
    {
      "cell_type": "code",
      "source": [
        "len(list_a)"
      ],
      "metadata": {
        "colab": {
          "base_uri": "https://localhost:8080/"
        },
        "id": "MYaaoOp8kNFU",
        "outputId": "cdade56c-0b13-4305-a739-c8fd87fb4ab4"
      },
      "execution_count": null,
      "outputs": [
        {
          "output_type": "execute_result",
          "data": {
            "text/plain": [
              "6"
            ]
          },
          "metadata": {},
          "execution_count": 28
        }
      ]
    },
    {
      "cell_type": "markdown",
      "source": [
        "###String is a list of characters"
      ],
      "metadata": {
        "id": "PAPwOMmGkXAp"
      }
    },
    {
      "cell_type": "code",
      "source": [
        "st_stat='Department of Statistics, Faculty of Science'"
      ],
      "metadata": {
        "id": "Op6nLV_ykWB-"
      },
      "execution_count": null,
      "outputs": []
    },
    {
      "cell_type": "code",
      "source": [
        "st_stat[10] #ตรงตำแหน่ง 10 ว่าง"
      ],
      "metadata": {
        "colab": {
          "base_uri": "https://localhost:8080/",
          "height": 35
        },
        "id": "C7wDMak_kbyM",
        "outputId": "d35f24b4-7575-4b80-b754-704c8cde37b5"
      },
      "execution_count": null,
      "outputs": [
        {
          "output_type": "execute_result",
          "data": {
            "application/vnd.google.colaboratory.intrinsic+json": {
              "type": "string"
            },
            "text/plain": [
              "' '"
            ]
          },
          "metadata": {},
          "execution_count": 30
        }
      ]
    },
    {
      "cell_type": "code",
      "source": [
        "st_stat[14] #ตรงตำแหน่ง 14 เป็นตัว S"
      ],
      "metadata": {
        "colab": {
          "base_uri": "https://localhost:8080/",
          "height": 35
        },
        "id": "USiiAAIOkfSu",
        "outputId": "69b2002e-49a3-470a-e8d5-148120cdd0be"
      },
      "execution_count": null,
      "outputs": [
        {
          "output_type": "execute_result",
          "data": {
            "application/vnd.google.colaboratory.intrinsic+json": {
              "type": "string"
            },
            "text/plain": [
              "'S'"
            ]
          },
          "metadata": {},
          "execution_count": 31
        }
      ]
    },
    {
      "cell_type": "code",
      "source": [
        "len(st_stat) #มีทั้งหมด 44 ตำแหน่ง"
      ],
      "metadata": {
        "colab": {
          "base_uri": "https://localhost:8080/"
        },
        "id": "F5ecFc0vkx47",
        "outputId": "dd2f9023-2e80-4041-e32f-e4317562c6a2"
      },
      "execution_count": null,
      "outputs": [
        {
          "output_type": "execute_result",
          "data": {
            "text/plain": [
              "44"
            ]
          },
          "metadata": {},
          "execution_count": 32
        }
      ]
    },
    {
      "cell_type": "markdown",
      "source": [
        "### List Slicing `:`"
      ],
      "metadata": {
        "id": "n485gxFFlJLo"
      }
    },
    {
      "cell_type": "markdown",
      "source": [
        "`list[จุดเริ่มต้น (ทึบ):จุดสุดท้าย (โปร่ง)]`\n",
        "\n",
        "`list[จุดเริ่มต้น:จุดสุดท้าย:step]`"
      ],
      "metadata": {
        "id": "1yb0YsarlNoi"
      }
    },
    {
      "cell_type": "code",
      "source": [
        "list_a"
      ],
      "metadata": {
        "colab": {
          "base_uri": "https://localhost:8080/"
        },
        "id": "ZZcNlT8Kk8js",
        "outputId": "81da1f35-a36e-47ec-b34f-899d3594f992"
      },
      "execution_count": null,
      "outputs": [
        {
          "output_type": "execute_result",
          "data": {
            "text/plain": [
              "[1, 2, 3, 4, 5, 6]"
            ]
          },
          "metadata": {},
          "execution_count": 33
        }
      ]
    },
    {
      "cell_type": "code",
      "source": [
        "list_a[2]"
      ],
      "metadata": {
        "colab": {
          "base_uri": "https://localhost:8080/"
        },
        "id": "-e_E5y88lU5X",
        "outputId": "be3e94ab-ee7e-4c8d-edaf-c4af08f7c664"
      },
      "execution_count": null,
      "outputs": [
        {
          "output_type": "execute_result",
          "data": {
            "text/plain": [
              "3"
            ]
          },
          "metadata": {},
          "execution_count": 34
        }
      ]
    },
    {
      "cell_type": "code",
      "source": [
        "list_a[-3:] # : colon"
      ],
      "metadata": {
        "colab": {
          "base_uri": "https://localhost:8080/"
        },
        "id": "_N2gmdLClXul",
        "outputId": "2b5eec0e-e300-4564-9cbd-6721f52ca424"
      },
      "execution_count": null,
      "outputs": [
        {
          "output_type": "execute_result",
          "data": {
            "text/plain": [
              "[4, 5, 6]"
            ]
          },
          "metadata": {},
          "execution_count": 35
        }
      ]
    },
    {
      "cell_type": "code",
      "source": [
        "list_a[:-4] "
      ],
      "metadata": {
        "colab": {
          "base_uri": "https://localhost:8080/"
        },
        "id": "IQY6kwQ-laDz",
        "outputId": "0d9df655-0878-4332-8cb8-f67590972715"
      },
      "execution_count": null,
      "outputs": [
        {
          "output_type": "execute_result",
          "data": {
            "text/plain": [
              "[1, 2]"
            ]
          },
          "metadata": {},
          "execution_count": 36
        }
      ]
    },
    {
      "cell_type": "code",
      "source": [
        "list_a[4:] "
      ],
      "metadata": {
        "colab": {
          "base_uri": "https://localhost:8080/"
        },
        "id": "QXFv1pxUlda2",
        "outputId": "6bbead99-0c55-4b0d-9274-99918452fcf5"
      },
      "execution_count": null,
      "outputs": [
        {
          "output_type": "execute_result",
          "data": {
            "text/plain": [
              "[5, 6]"
            ]
          },
          "metadata": {},
          "execution_count": 37
        }
      ]
    },
    {
      "cell_type": "code",
      "source": [
        "list_a[-4:] "
      ],
      "metadata": {
        "colab": {
          "base_uri": "https://localhost:8080/"
        },
        "id": "HsbbO5_klgB1",
        "outputId": "ea8c9693-e504-46ff-fe16-595bc6a3941f"
      },
      "execution_count": null,
      "outputs": [
        {
          "output_type": "execute_result",
          "data": {
            "text/plain": [
              "[3, 4, 5, 6]"
            ]
          },
          "metadata": {},
          "execution_count": 38
        }
      ]
    },
    {
      "cell_type": "code",
      "source": [
        "list_a[:4] "
      ],
      "metadata": {
        "colab": {
          "base_uri": "https://localhost:8080/"
        },
        "id": "AloEb70WlsK_",
        "outputId": "434cf06d-318d-4936-f854-842d39e40471"
      },
      "execution_count": null,
      "outputs": [
        {
          "output_type": "execute_result",
          "data": {
            "text/plain": [
              "[1, 2, 3, 4]"
            ]
          },
          "metadata": {},
          "execution_count": 39
        }
      ]
    },
    {
      "cell_type": "code",
      "source": [
        "list_a[1:4] "
      ],
      "metadata": {
        "colab": {
          "base_uri": "https://localhost:8080/"
        },
        "id": "yabLCiWelhwb",
        "outputId": "1b25f246-247a-422e-db6b-0e25a15254c2"
      },
      "execution_count": null,
      "outputs": [
        {
          "output_type": "execute_result",
          "data": {
            "text/plain": [
              "[2, 3, 4]"
            ]
          },
          "metadata": {},
          "execution_count": 40
        }
      ]
    },
    {
      "cell_type": "markdown",
      "source": [
        "####step"
      ],
      "metadata": {
        "id": "9YVt9b6vl4UL"
      }
    },
    {
      "cell_type": "code",
      "source": [
        "list_c=[1,2,3,4,5,6,7,8,9,10,11,12,13]"
      ],
      "metadata": {
        "id": "HpDbtZ6ql3IY"
      },
      "execution_count": null,
      "outputs": []
    },
    {
      "cell_type": "code",
      "source": [
        "list_c[:10:]"
      ],
      "metadata": {
        "colab": {
          "base_uri": "https://localhost:8080/"
        },
        "id": "Q2qWNYB2mYkq",
        "outputId": "e792dc7b-da4a-403e-ef50-2df589646e5e"
      },
      "execution_count": null,
      "outputs": [
        {
          "output_type": "execute_result",
          "data": {
            "text/plain": [
              "[1, 2, 3, 4, 5, 6, 7, 8, 9, 10]"
            ]
          },
          "metadata": {},
          "execution_count": 46
        }
      ]
    },
    {
      "cell_type": "code",
      "source": [
        "list_c[:10:2]"
      ],
      "metadata": {
        "colab": {
          "base_uri": "https://localhost:8080/"
        },
        "id": "dRi7xZzqmHGF",
        "outputId": "06c08caf-2659-4d11-bf85-a29a323a0b14"
      },
      "execution_count": null,
      "outputs": [
        {
          "output_type": "execute_result",
          "data": {
            "text/plain": [
              "[1, 3, 5, 7, 9]"
            ]
          },
          "metadata": {},
          "execution_count": 42
        }
      ]
    },
    {
      "cell_type": "code",
      "source": [
        "list_c[10:]"
      ],
      "metadata": {
        "colab": {
          "base_uri": "https://localhost:8080/"
        },
        "id": "8GlVkpV8mcL_",
        "outputId": "00770588-15e9-4a8e-9f1b-4edefa632bf1"
      },
      "execution_count": null,
      "outputs": [
        {
          "output_type": "execute_result",
          "data": {
            "text/plain": [
              "[11, 12, 13]"
            ]
          },
          "metadata": {},
          "execution_count": 48
        }
      ]
    },
    {
      "cell_type": "code",
      "source": [
        "list_c[10::2]"
      ],
      "metadata": {
        "colab": {
          "base_uri": "https://localhost:8080/"
        },
        "id": "o4yOtg6EmIS0",
        "outputId": "2a65937e-64d4-4171-a4ac-869b31a95740"
      },
      "execution_count": null,
      "outputs": [
        {
          "output_type": "execute_result",
          "data": {
            "text/plain": [
              "[11, 13]"
            ]
          },
          "metadata": {},
          "execution_count": 45
        }
      ]
    },
    {
      "cell_type": "code",
      "source": [
        "list_c[1::2]"
      ],
      "metadata": {
        "colab": {
          "base_uri": "https://localhost:8080/"
        },
        "id": "HXFUoBrhmOuy",
        "outputId": "8183e8c8-5f61-472d-9488-5ffbdf9438e4"
      },
      "execution_count": null,
      "outputs": [
        {
          "output_type": "execute_result",
          "data": {
            "text/plain": [
              "[2, 4, 6, 8, 10, 12]"
            ]
          },
          "metadata": {},
          "execution_count": 49
        }
      ]
    },
    {
      "cell_type": "code",
      "source": [
        "list_c[::-1]"
      ],
      "metadata": {
        "colab": {
          "base_uri": "https://localhost:8080/"
        },
        "id": "eTFtiYWQmrni",
        "outputId": "d4ec4fcb-d429-4cf6-a29f-5007b07241cc"
      },
      "execution_count": null,
      "outputs": [
        {
          "output_type": "execute_result",
          "data": {
            "text/plain": [
              "[13, 12, 11, 10, 9, 8, 7, 6, 5, 4, 3, 2, 1]"
            ]
          },
          "metadata": {},
          "execution_count": 50
        }
      ]
    },
    {
      "cell_type": "markdown",
      "source": [
        "###`range()`"
      ],
      "metadata": {
        "id": "vEgrwcC0m0KC"
      }
    },
    {
      "cell_type": "code",
      "source": [
        "range(21)"
      ],
      "metadata": {
        "colab": {
          "base_uri": "https://localhost:8080/"
        },
        "id": "U4I5KIeSmw_Z",
        "outputId": "c2d114fb-f386-4262-9c07-e811de785937"
      },
      "execution_count": null,
      "outputs": [
        {
          "output_type": "execute_result",
          "data": {
            "text/plain": [
              "range(0, 21)"
            ]
          },
          "metadata": {},
          "execution_count": 51
        }
      ]
    },
    {
      "cell_type": "code",
      "source": [
        "a=list(range(21))"
      ],
      "metadata": {
        "id": "ts9i07Bsm4At"
      },
      "execution_count": null,
      "outputs": []
    },
    {
      "cell_type": "code",
      "source": [
        "a"
      ],
      "metadata": {
        "colab": {
          "base_uri": "https://localhost:8080/"
        },
        "id": "dVA-Kwbfm6QK",
        "outputId": "33154fb0-5367-4c67-873c-9b34335f38bd"
      },
      "execution_count": null,
      "outputs": [
        {
          "output_type": "execute_result",
          "data": {
            "text/plain": [
              "[0, 1, 2, 3, 4, 5, 6, 7, 8, 9, 10, 11, 12, 13, 14, 15, 16, 17, 18, 19, 20]"
            ]
          },
          "metadata": {},
          "execution_count": 53
        }
      ]
    },
    {
      "cell_type": "code",
      "source": [
        "list(range(1,21))"
      ],
      "metadata": {
        "colab": {
          "base_uri": "https://localhost:8080/"
        },
        "id": "gQDRomDzm7NE",
        "outputId": "b8e09b61-d9dd-4d61-be85-94bcd0947388"
      },
      "execution_count": null,
      "outputs": [
        {
          "output_type": "execute_result",
          "data": {
            "text/plain": [
              "[1, 2, 3, 4, 5, 6, 7, 8, 9, 10, 11, 12, 13, 14, 15, 16, 17, 18, 19, 20]"
            ]
          },
          "metadata": {},
          "execution_count": 54
        }
      ]
    },
    {
      "cell_type": "markdown",
      "source": [
        "HW2 คำนวณเวลาเป็นวินาทีของเวลาต่อไปนี้โดยใช้คำสั่ง split() ช่วย (printออกมาให้สวยงาม)\n",
        "\n",
        "- 12:30:15\n",
        "- 13:41:07\n",
        "- 09:11:50\n",
        "- 21:30:15\n",
        "- 03:10:15"
      ],
      "metadata": {
        "id": "QNhKaRdNnHKZ"
      }
    },
    {
      "cell_type": "code",
      "source": [
        "#01:02:03\n",
        "a=1*60*60 +(2*60)+3\n",
        "print(f'01:02:03 แปลงเป็นวินาที ได้ {a} วินาที') #ตัวอย่าง"
      ],
      "metadata": {
        "colab": {
          "base_uri": "https://localhost:8080/"
        },
        "id": "Lm8fTqIbm8mr",
        "outputId": "5327133e-9726-4c66-da6c-401d7a43b16e"
      },
      "execution_count": null,
      "outputs": [
        {
          "output_type": "stream",
          "name": "stdout",
          "text": [
            "01:02:03 แปลงเป็นวินาที ได้ 3723 วินาที\n"
          ]
        }
      ]
    },
    {
      "cell_type": "markdown",
      "source": [
        "##`HW2`"
      ],
      "metadata": {
        "id": "QnL2gbH3nSNB"
      }
    },
    {
      "cell_type": "code",
      "source": [
        "#12:30:15\n",
        "b = '12:30:15'\n",
        "b1 = b.split(':')\n",
        "ans =int(b1[0])*60*60 +int(b1[1])*60+int(b1[2])\n",
        "print(f'No.1) 12:30:15 น. = {ans} วินาที')"
      ],
      "metadata": {
        "colab": {
          "base_uri": "https://localhost:8080/"
        },
        "id": "5vu7V3O7nQy9",
        "outputId": "106ef878-b48a-4a46-c191-9967356e7760"
      },
      "execution_count": 16,
      "outputs": [
        {
          "output_type": "stream",
          "name": "stdout",
          "text": [
            "No.1) 12:30:15 น. = 45015 วินาที\n"
          ]
        }
      ]
    },
    {
      "cell_type": "code",
      "source": [
        "#13:41:07\n",
        "c = '13:41:07'\n",
        "c1 = c.split(':')\n",
        "ans =int(c1[0])*60*60 +int(c1[1])*60+int(c1[2])\n",
        "print(f'No.2) 13:41:07 น. = {ans} วินาที')"
      ],
      "metadata": {
        "colab": {
          "base_uri": "https://localhost:8080/"
        },
        "id": "GQIFUlFNnV9e",
        "outputId": "82b27968-a36a-43d8-a569-8c5f86aa4983"
      },
      "execution_count": 17,
      "outputs": [
        {
          "output_type": "stream",
          "name": "stdout",
          "text": [
            "No.2) 13:41:07 น. = 49267 วินาที\n"
          ]
        }
      ]
    },
    {
      "cell_type": "code",
      "source": [
        "#09:11:50\n",
        "d = '09:11:50'\n",
        "d1 = d.split(':')\n",
        "ans =int(d1[0])*60*60 +int(d1[1])*60+int(d1[2])\n",
        "print(f'No.3) 09:11:50 น. = {ans} วินาที')"
      ],
      "metadata": {
        "colab": {
          "base_uri": "https://localhost:8080/"
        },
        "id": "P6S4uvmRnuwt",
        "outputId": "5ac172fe-0e05-4915-b528-d4f99d0f9631"
      },
      "execution_count": 18,
      "outputs": [
        {
          "output_type": "stream",
          "name": "stdout",
          "text": [
            "No.3) 09:11:50 น. = 33110 วินาที\n"
          ]
        }
      ]
    },
    {
      "cell_type": "code",
      "source": [
        "#21:30:15\n",
        "e = '21:30:15'\n",
        "e1 = e.split(':')\n",
        "ans =int(e1[0])*60*60 +int(e1[1])*60+int(e1[2])\n",
        "print(f'No.4) 21:30:15 น. = {ans} วินาที')"
      ],
      "metadata": {
        "colab": {
          "base_uri": "https://localhost:8080/"
        },
        "id": "HXIQU_0Tn-aR",
        "outputId": "a13f38b7-14ad-4f99-8890-541c7d05023f"
      },
      "execution_count": 19,
      "outputs": [
        {
          "output_type": "stream",
          "name": "stdout",
          "text": [
            "No.4) 21:30:15 น. = 77415 วินาที\n"
          ]
        }
      ]
    },
    {
      "cell_type": "code",
      "source": [
        "#03:10:15\n",
        "f = '03:10:15'\n",
        "f1 = f.split(':')\n",
        "ans =int(f1[0])*60*60 +int(f1[1])*60+int(f1[2])\n",
        "print(f'No.5) 03:10:15 น. = {ans} วินาที')"
      ],
      "metadata": {
        "colab": {
          "base_uri": "https://localhost:8080/"
        },
        "id": "QRDQEJkxoHKJ",
        "outputId": "a4243588-9a76-4c41-ba18-debced298e90"
      },
      "execution_count": 20,
      "outputs": [
        {
          "output_type": "stream",
          "name": "stdout",
          "text": [
            "No.5) 03:10:15 น. = 11415 วินาที\n"
          ]
        }
      ]
    }
  ]
}